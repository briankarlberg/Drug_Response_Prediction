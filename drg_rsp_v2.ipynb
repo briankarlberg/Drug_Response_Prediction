{
 "cells": [
  {
   "cell_type": "code",
   "execution_count": null,
   "metadata": {},
   "outputs": [],
   "source": [
    "# Purpose of notebook is to restart project from drug_response directory\n",
    "# Most recent notebook is variance_threshold\n",
    "# Second most recent is cell_line_mapper\n",
    "# Third most recent is drug_response_vertex\n",
    "\n",
    "# Find where drug_response .tsvs came from (6 files)\n",
    "# Why is PRISM and CCLE missing?\n",
    "\n",
    "# Want to recreate querries, mapping, file generation, and RFE\n",
    "\n",
    "# Inspection strategy:\n",
    "    # collapse cells\n",
    "    # Find bromo file generation\n",
    "    # Find bromo object inputs"
   ]
  },
  {
   "cell_type": "code",
   "execution_count": null,
   "metadata": {},
   "outputs": [],
   "source": [
    "# variance_threshold notes:\n",
    "\n",
    "# Looks like post - RFE run fail because [var_thrsh] is quick method\n",
    "    # for feature selection\n",
    "\n",
    "# Takes bromo file from data directory\n",
    "# Trace back bromo file generation\n",
    "\n",
    "# Bromo file has Y_vector column\n",
    "\n",
    "# Creation of X and Y objects\n",
    "    # using variance cutoffs 1-8 (VarianceThreshold function)\n",
    "    \n",
    "# What bromo tsv v2?\n",
    "# Where does bromo tsv v2 come from?\n",
    "\n",
    "# End inspection, variance feature selection and regression"
   ]
  },
  {
   "cell_type": "code",
   "execution_count": null,
   "metadata": {},
   "outputs": [],
   "source": [
    "# cell_line_mapper notes:\n",
    "# writes mapped object to data file\n",
    "\n",
    "# Starts by taking in CCLE file\n",
    "    # Where is this written from?\n",
    "    \n",
    "# Is CCLE source of gene expression to be \n",
    "    # mapped to drug response from the other projects?\n",
    "    \n",
    "# Next, takes in CTRPv2 drug response file\n",
    " # 16 beta is first of 500 drugs on CRTP list sorted list\n",
    "    \n",
    "# isolate single drug\n",
    "# Got 765 cell lines response values for 16 beta in CTRP object\n",
    "\n",
    "# * Key step * map CCLE gene expression rows back to bromo object \n",
    "        # subset ***\n",
    "\n",
    "# RFE cell found"
   ]
  },
  {
   "cell_type": "code",
   "execution_count": 5,
   "metadata": {},
   "outputs": [],
   "source": [
    "# End inspection notes"
   ]
  },
  {
   "cell_type": "markdown",
   "metadata": {},
   "source": [
    "### Begin drg_rsp_v2"
   ]
  },
  {
   "cell_type": "code",
   "execution_count": null,
   "metadata": {},
   "outputs": [],
   "source": [
    "# Build object for next drug after 16_beta_bromo"
   ]
  },
  {
   "cell_type": "markdown",
   "metadata": {},
   "source": [
    "### Begin reproducing work in drug_response directory"
   ]
  },
  {
   "cell_type": "code",
   "execution_count": 6,
   "metadata": {},
   "outputs": [],
   "source": [
    "import pandas as pd"
   ]
  },
  {
   "cell_type": "code",
   "execution_count": null,
   "metadata": {},
   "outputs": [],
   "source": [
    "# Rebuild CCLE gexp_by_cell_line object"
   ]
  },
  {
   "cell_type": "code",
   "execution_count": null,
   "metadata": {},
   "outputs": [],
   "source": [
    "_"
   ]
  },
  {
   "cell_type": "code",
   "execution_count": null,
   "metadata": {},
   "outputs": [],
   "source": [
    "# Rebuild beta bromo file, from cell line mapper"
   ]
  },
  {
   "cell_type": "code",
   "execution_count": 16,
   "metadata": {},
   "outputs": [],
   "source": [
    "import time"
   ]
  },
  {
   "cell_type": "code",
   "execution_count": 21,
   "metadata": {},
   "outputs": [
    {
     "name": "stdout",
     "output_type": "stream",
     "text": [
      "CCLE_gene_expression_by_cell_line.tsv  drug_response_GRAY.tsv\n",
      "Drug_response_layers.jpg               drug_response_GRAY.txt\n",
      "\u001b[34mGRAY_drug_response\u001b[m\u001b[m/                    drug_response_UHNBreast.tsv\n",
      "\u001b[34mUHNBreast_drug_response\u001b[m\u001b[m/               drug_response_UHNBreast.txt\n",
      "X_PF-3814735.tsv                       drug_response_gCSI.tsv\n",
      "aliquot_count.ipynb                    drug_response_gCSI.txt\n",
      "cell_line_by_gene_matrix.ipynb         drug_response_notes.rtf\n",
      "cell_line_list.ipynb                   drug_response_production.ipynb\n",
      "cell_line_mapper.ipynb                 drug_response_vertex.ipynb\n",
      "\u001b[34mdata\u001b[m\u001b[m/                                  \u001b[34mexpression_chunks\u001b[m\u001b[m/\n",
      "drug_response.2.ipynb                  gene_list.txt\n",
      "drug_response.3.ipynb                  gexp_query.ipynb\n",
      "drug_response.4.ipynb                  \u001b[34minput_GDSC_direct\u001b[m\u001b[m/\n",
      "drug_response.ipynb                    keras_drug_response.ipynb\n",
      "drug_response_CTRPv2.tsv               \u001b[34moptuna\u001b[m\u001b[m/\n",
      "drug_response_CTRPv2.txt               query dot select example.rtf\n",
      "drug_response_FIMM.tsv                 \u001b[34mvariance_threshold\u001b[m\u001b[m/\n",
      "drug_response_FIMM.txt                 variance_threshold.ipynb\n",
      "drug_response_GDSC1000.tsv             y_vector.ipynb\n",
      "drug_response_GDSC1000.txt\n"
     ]
    }
   ],
   "source": [
    "ls ../drug_response/"
   ]
  },
  {
   "cell_type": "code",
   "execution_count": 22,
   "metadata": {},
   "outputs": [
    {
     "name": "stdout",
     "output_type": "stream",
     "text": [
      "78.4\n"
     ]
    }
   ],
   "source": [
    "# Read expression by cell line\n",
    "start = time.time()\n",
    "cell_lines_by_genes = pd.read_csv(\n",
    "    '../drug_response/CCLE_gene_expression_by_cell_line.tsv',\n",
    "    sep = '\\t')\n",
    "end = time.time() - start\n",
    "print(str(round(end, 1)))"
   ]
  },
  {
   "cell_type": "code",
   "execution_count": 24,
   "metadata": {},
   "outputs": [
    {
     "data": {
      "text/plain": [
       "(1165, 57823)"
      ]
     },
     "execution_count": 24,
     "metadata": {},
     "output_type": "execute_result"
    }
   ],
   "source": [
    "cell_lines_by_genes.shape"
   ]
  },
  {
   "cell_type": "code",
   "execution_count": 30,
   "metadata": {},
   "outputs": [
    {
     "data": {
      "text/html": [
       "<div>\n",
       "<style scoped>\n",
       "    .dataframe tbody tr th:only-of-type {\n",
       "        vertical-align: middle;\n",
       "    }\n",
       "\n",
       "    .dataframe tbody tr th {\n",
       "        vertical-align: top;\n",
       "    }\n",
       "\n",
       "    .dataframe thead th {\n",
       "        text-align: right;\n",
       "    }\n",
       "</style>\n",
       "<table border=\"1\" class=\"dataframe\">\n",
       "  <thead>\n",
       "    <tr style=\"text-align: right;\">\n",
       "      <th></th>\n",
       "      <th>Cell_line</th>\n",
       "      <th>Project</th>\n",
       "      <th>Label</th>\n",
       "      <th>ENSG00000000003</th>\n",
       "      <th>ENSG00000000005</th>\n",
       "      <th>ENSG00000000419</th>\n",
       "      <th>ENSG00000000457</th>\n",
       "      <th>ENSG00000000460</th>\n",
       "      <th>ENSG00000000938</th>\n",
       "      <th>ENSG00000000971</th>\n",
       "      <th>...</th>\n",
       "      <th>ENSGR0000237531</th>\n",
       "      <th>ENSGR0000237801</th>\n",
       "      <th>ENSGR0000263835</th>\n",
       "      <th>ENSGR0000263980</th>\n",
       "      <th>ENSGR0000264510</th>\n",
       "      <th>ENSGR0000264819</th>\n",
       "      <th>ENSGR0000265350</th>\n",
       "      <th>ENSGR0000265658</th>\n",
       "      <th>ENSGR0000266731</th>\n",
       "      <th>ENSGR0000270726</th>\n",
       "    </tr>\n",
       "  </thead>\n",
       "  <tbody>\n",
       "    <tr>\n",
       "      <th>0</th>\n",
       "      <td>ACH-000796</td>\n",
       "      <td>CCLE</td>\n",
       "      <td>GeneExpression</td>\n",
       "      <td>3.444932</td>\n",
       "      <td>0.0</td>\n",
       "      <td>6.898450</td>\n",
       "      <td>1.891419</td>\n",
       "      <td>3.620586</td>\n",
       "      <td>0.014355</td>\n",
       "      <td>0.201634</td>\n",
       "      <td>...</td>\n",
       "      <td>0.0</td>\n",
       "      <td>0.0</td>\n",
       "      <td>0.0</td>\n",
       "      <td>0.0</td>\n",
       "      <td>0.0</td>\n",
       "      <td>0.0</td>\n",
       "      <td>0.0</td>\n",
       "      <td>0.0</td>\n",
       "      <td>0.0</td>\n",
       "      <td>0.0</td>\n",
       "    </tr>\n",
       "    <tr>\n",
       "      <th>1</th>\n",
       "      <td>ACH-000759</td>\n",
       "      <td>CCLE</td>\n",
       "      <td>GeneExpression</td>\n",
       "      <td>5.846493</td>\n",
       "      <td>0.0</td>\n",
       "      <td>6.369641</td>\n",
       "      <td>4.167519</td>\n",
       "      <td>4.126808</td>\n",
       "      <td>0.070389</td>\n",
       "      <td>3.513491</td>\n",
       "      <td>...</td>\n",
       "      <td>0.0</td>\n",
       "      <td>0.0</td>\n",
       "      <td>0.0</td>\n",
       "      <td>0.0</td>\n",
       "      <td>0.0</td>\n",
       "      <td>0.0</td>\n",
       "      <td>0.0</td>\n",
       "      <td>0.0</td>\n",
       "      <td>0.0</td>\n",
       "      <td>0.0</td>\n",
       "    </tr>\n",
       "    <tr>\n",
       "      <th>2</th>\n",
       "      <td>ACH-000621</td>\n",
       "      <td>CCLE</td>\n",
       "      <td>GeneExpression</td>\n",
       "      <td>3.237258</td>\n",
       "      <td>0.0</td>\n",
       "      <td>7.982081</td>\n",
       "      <td>2.144046</td>\n",
       "      <td>4.051372</td>\n",
       "      <td>0.111031</td>\n",
       "      <td>1.350497</td>\n",
       "      <td>...</td>\n",
       "      <td>0.0</td>\n",
       "      <td>0.0</td>\n",
       "      <td>0.0</td>\n",
       "      <td>0.0</td>\n",
       "      <td>0.0</td>\n",
       "      <td>0.0</td>\n",
       "      <td>0.0</td>\n",
       "      <td>0.0</td>\n",
       "      <td>0.0</td>\n",
       "      <td>0.0</td>\n",
       "    </tr>\n",
       "  </tbody>\n",
       "</table>\n",
       "<p>3 rows × 57823 columns</p>\n",
       "</div>"
      ],
      "text/plain": [
       "    Cell_line Project           Label  ENSG00000000003  ENSG00000000005  \\\n",
       "0  ACH-000796    CCLE  GeneExpression         3.444932              0.0   \n",
       "1  ACH-000759    CCLE  GeneExpression         5.846493              0.0   \n",
       "2  ACH-000621    CCLE  GeneExpression         3.237258              0.0   \n",
       "\n",
       "   ENSG00000000419  ENSG00000000457  ENSG00000000460  ENSG00000000938  \\\n",
       "0         6.898450         1.891419         3.620586         0.014355   \n",
       "1         6.369641         4.167519         4.126808         0.070389   \n",
       "2         7.982081         2.144046         4.051372         0.111031   \n",
       "\n",
       "   ENSG00000000971  ...  ENSGR0000237531  ENSGR0000237801  ENSGR0000263835  \\\n",
       "0         0.201634  ...              0.0              0.0              0.0   \n",
       "1         3.513491  ...              0.0              0.0              0.0   \n",
       "2         1.350497  ...              0.0              0.0              0.0   \n",
       "\n",
       "   ENSGR0000263980  ENSGR0000264510  ENSGR0000264819  ENSGR0000265350  \\\n",
       "0              0.0              0.0              0.0              0.0   \n",
       "1              0.0              0.0              0.0              0.0   \n",
       "2              0.0              0.0              0.0              0.0   \n",
       "\n",
       "   ENSGR0000265658  ENSGR0000266731  ENSGR0000270726  \n",
       "0              0.0              0.0              0.0  \n",
       "1              0.0              0.0              0.0  \n",
       "2              0.0              0.0              0.0  \n",
       "\n",
       "[3 rows x 57823 columns]"
      ]
     },
     "execution_count": 30,
     "metadata": {},
     "output_type": "execute_result"
    }
   ],
   "source": [
    "cell_lines_by_genes.head(3)"
   ]
  },
  {
   "cell_type": "code",
   "execution_count": 26,
   "metadata": {},
   "outputs": [],
   "source": [
    "# build 507 drug frames from this by mapping to gxp_cell_line obj\n",
    "CTRPv2 = pd.read_csv(\n",
    "    '../drug_response/drug_response_CTRPv2.tsv', sep = '\\t')"
   ]
  },
  {
   "cell_type": "code",
   "execution_count": 27,
   "metadata": {},
   "outputs": [
    {
     "data": {
      "text/plain": [
       "(367742, 3)"
      ]
     },
     "execution_count": 27,
     "metadata": {},
     "output_type": "execute_result"
    }
   ],
   "source": [
    "CTRPv2.shape"
   ]
  },
  {
   "cell_type": "code",
   "execution_count": 29,
   "metadata": {},
   "outputs": [
    {
     "data": {
      "text/html": [
       "<div>\n",
       "<style scoped>\n",
       "    .dataframe tbody tr th:only-of-type {\n",
       "        vertical-align: middle;\n",
       "    }\n",
       "\n",
       "    .dataframe tbody tr th {\n",
       "        vertical-align: top;\n",
       "    }\n",
       "\n",
       "    .dataframe thead th {\n",
       "        text-align: right;\n",
       "    }\n",
       "</style>\n",
       "<table border=\"1\" class=\"dataframe\">\n",
       "  <thead>\n",
       "    <tr style=\"text-align: right;\">\n",
       "      <th></th>\n",
       "      <th>Drug</th>\n",
       "      <th>Response</th>\n",
       "      <th>Cell_line</th>\n",
       "    </tr>\n",
       "  </thead>\n",
       "  <tbody>\n",
       "    <tr>\n",
       "      <th>0</th>\n",
       "      <td>BRD4132</td>\n",
       "      <td>0.113025</td>\n",
       "      <td>ACH-000464</td>\n",
       "    </tr>\n",
       "    <tr>\n",
       "      <th>1</th>\n",
       "      <td>piperlongumine</td>\n",
       "      <td>0.073386</td>\n",
       "      <td>ACH-000464</td>\n",
       "    </tr>\n",
       "    <tr>\n",
       "      <th>2</th>\n",
       "      <td>cytochalasin b</td>\n",
       "      <td>0.224294</td>\n",
       "      <td>ACH-000464</td>\n",
       "    </tr>\n",
       "  </tbody>\n",
       "</table>\n",
       "</div>"
      ],
      "text/plain": [
       "             Drug  Response   Cell_line\n",
       "0         BRD4132  0.113025  ACH-000464\n",
       "1  piperlongumine  0.073386  ACH-000464\n",
       "2  cytochalasin b  0.224294  ACH-000464"
      ]
     },
     "execution_count": 29,
     "metadata": {},
     "output_type": "execute_result"
    }
   ],
   "source": [
    "CTRPv2.head(3)"
   ]
  },
  {
   "cell_type": "code",
   "execution_count": 32,
   "metadata": {},
   "outputs": [
    {
     "data": {
      "text/html": [
       "<div>\n",
       "<style scoped>\n",
       "    .dataframe tbody tr th:only-of-type {\n",
       "        vertical-align: middle;\n",
       "    }\n",
       "\n",
       "    .dataframe tbody tr th {\n",
       "        vertical-align: top;\n",
       "    }\n",
       "\n",
       "    .dataframe thead th {\n",
       "        text-align: right;\n",
       "    }\n",
       "</style>\n",
       "<table border=\"1\" class=\"dataframe\">\n",
       "  <thead>\n",
       "    <tr style=\"text-align: right;\">\n",
       "      <th></th>\n",
       "      <th>Drug</th>\n",
       "      <th>Response</th>\n",
       "      <th>Cell_line</th>\n",
       "    </tr>\n",
       "  </thead>\n",
       "  <tbody>\n",
       "    <tr>\n",
       "      <th>5460</th>\n",
       "      <td>16-beta-bromoandrosterone</td>\n",
       "      <td>0.112608</td>\n",
       "      <td>ACH-000105</td>\n",
       "    </tr>\n",
       "    <tr>\n",
       "      <th>359880</th>\n",
       "      <td>16-beta-bromoandrosterone</td>\n",
       "      <td>0.108502</td>\n",
       "      <td>ACH-000741</td>\n",
       "    </tr>\n",
       "    <tr>\n",
       "      <th>122077</th>\n",
       "      <td>16-beta-bromoandrosterone</td>\n",
       "      <td>0.044526</td>\n",
       "      <td>ACH-000459</td>\n",
       "    </tr>\n",
       "    <tr>\n",
       "      <th>308403</th>\n",
       "      <td>16-beta-bromoandrosterone</td>\n",
       "      <td>0.104743</td>\n",
       "      <td>ACH-000722</td>\n",
       "    </tr>\n",
       "    <tr>\n",
       "      <th>272115</th>\n",
       "      <td>16-beta-bromoandrosterone</td>\n",
       "      <td>0.019231</td>\n",
       "      <td>ACH-000846</td>\n",
       "    </tr>\n",
       "    <tr>\n",
       "      <th>...</th>\n",
       "      <td>...</td>\n",
       "      <td>...</td>\n",
       "      <td>...</td>\n",
       "    </tr>\n",
       "    <tr>\n",
       "      <th>232872</th>\n",
       "      <td>vorinostat</td>\n",
       "      <td>0.037018</td>\n",
       "      <td>ACH-001016</td>\n",
       "    </tr>\n",
       "    <tr>\n",
       "      <th>48079</th>\n",
       "      <td>vorinostat</td>\n",
       "      <td>0.230139</td>\n",
       "      <td>ACH-000965</td>\n",
       "    </tr>\n",
       "    <tr>\n",
       "      <th>2344</th>\n",
       "      <td>vorinostat</td>\n",
       "      <td>0.345131</td>\n",
       "      <td>ACH-000792</td>\n",
       "    </tr>\n",
       "    <tr>\n",
       "      <th>162836</th>\n",
       "      <td>vorinostat</td>\n",
       "      <td>0.237205</td>\n",
       "      <td>ACH-000146</td>\n",
       "    </tr>\n",
       "    <tr>\n",
       "      <th>276629</th>\n",
       "      <td>vorinostat</td>\n",
       "      <td>0.275809</td>\n",
       "      <td>ACH-000110</td>\n",
       "    </tr>\n",
       "  </tbody>\n",
       "</table>\n",
       "<p>367742 rows × 3 columns</p>\n",
       "</div>"
      ],
      "text/plain": [
       "                             Drug  Response   Cell_line\n",
       "5460    16-beta-bromoandrosterone  0.112608  ACH-000105\n",
       "359880  16-beta-bromoandrosterone  0.108502  ACH-000741\n",
       "122077  16-beta-bromoandrosterone  0.044526  ACH-000459\n",
       "308403  16-beta-bromoandrosterone  0.104743  ACH-000722\n",
       "272115  16-beta-bromoandrosterone  0.019231  ACH-000846\n",
       "...                           ...       ...         ...\n",
       "232872                 vorinostat  0.037018  ACH-001016\n",
       "48079                  vorinostat  0.230139  ACH-000965\n",
       "2344                   vorinostat  0.345131  ACH-000792\n",
       "162836                 vorinostat  0.237205  ACH-000146\n",
       "276629                 vorinostat  0.275809  ACH-000110\n",
       "\n",
       "[367742 rows x 3 columns]"
      ]
     },
     "execution_count": 32,
     "metadata": {},
     "output_type": "execute_result"
    }
   ],
   "source": [
    "CTRPv2_drug_sort = CTRPv2.sort_values('Drug')\n",
    "CTRPv2_drug_sort"
   ]
  },
  {
   "cell_type": "code",
   "execution_count": 33,
   "metadata": {},
   "outputs": [],
   "source": [
    "CTRPv2_unique_compounds = CTRPv2_drug_sort.Drug.unique()"
   ]
  },
  {
   "cell_type": "code",
   "execution_count": 34,
   "metadata": {},
   "outputs": [
    {
     "data": {
      "text/plain": [
       "507"
      ]
     },
     "execution_count": 34,
     "metadata": {},
     "output_type": "execute_result"
    }
   ],
   "source": [
    "len(CTRPv2_unique_compounds) # check with Drug Lit (?)"
   ]
  },
  {
   "cell_type": "code",
   "execution_count": 35,
   "metadata": {},
   "outputs": [
    {
     "name": "stdout",
     "output_type": "stream",
     "text": [
      "16-beta-bromoandrosterone\n",
      "765\n"
     ]
    }
   ],
   "source": [
    "# Drg_rsp / cll_lin subsetting step\n",
    "# Do with shell script?\n",
    "# Manual?\n",
    "# lists and arg parse?\n",
    "# What's the limit of jobs x time on Exacloud?\n",
    "for unique_compound in CTRPv2_unique_compounds:\n",
    "    print(unique_compound)\n",
    "    drug_frame = CTRPv2[CTRPv2.Drug == unique_compound] # *key step\n",
    "    print(len(drug_frame))\n",
    "    len( drug_frame.Cell_line.unique() )\n",
    "    break"
   ]
  },
  {
   "cell_type": "code",
   "execution_count": 36,
   "metadata": {},
   "outputs": [],
   "source": [
    "drug_cell_lines = drug_frame.Cell_line"
   ]
  },
  {
   "cell_type": "code",
   "execution_count": 37,
   "metadata": {},
   "outputs": [],
   "source": [
    "expression_cell_line_subset = cell_lines_by_genes[\n",
    "    cell_lines_by_genes['Cell_line'].isin( drug_cell_lines ) ]"
   ]
  },
  {
   "cell_type": "code",
   "execution_count": 38,
   "metadata": {},
   "outputs": [
    {
     "data": {
      "text/plain": [
       "(742, 57823)"
      ]
     },
     "execution_count": 38,
     "metadata": {},
     "output_type": "execute_result"
    }
   ],
   "source": [
    "# Gxp cell lines from CCLE for which there is a bromo rsp\n",
    "expression_cell_line_subset.shape"
   ]
  },
  {
   "cell_type": "code",
   "execution_count": 40,
   "metadata": {},
   "outputs": [],
   "source": [
    "# Subset response object based on lines mapping to CCLE for Y vector\n",
    "subset_cell_lines = expression_cell_line_subset.Cell_line\n",
    "subset_of_drug_frame_gexp_hits = drug_frame[\n",
    "    drug_frame.Cell_line.isin(subset_cell_lines) ]"
   ]
  },
  {
   "cell_type": "code",
   "execution_count": 41,
   "metadata": {},
   "outputs": [],
   "source": [
    "y_response = subset_of_drug_frame_gexp_hits.Response\n",
    "# Put on exacloud\n",
    "# Pre-build object?"
   ]
  },
  {
   "cell_type": "code",
   "execution_count": 42,
   "metadata": {},
   "outputs": [
    {
     "data": {
      "text/plain": [
       "pandas.core.series.Series"
      ]
     },
     "execution_count": 42,
     "metadata": {},
     "output_type": "execute_result"
    }
   ],
   "source": [
    "type(y_response)"
   ]
  },
  {
   "cell_type": "code",
   "execution_count": 48,
   "metadata": {},
   "outputs": [],
   "source": [
    "# Create X matrix direct from subsetted gxp_obj prior to appending Y_vec\n",
    "X_gexp = expression_cell_line_subset.iloc[ :, 3:]"
   ]
  },
  {
   "cell_type": "code",
   "execution_count": null,
   "metadata": {},
   "outputs": [],
   "source": [
    "# End reproduction of cell_line_mapper"
   ]
  },
  {
   "cell_type": "markdown",
   "metadata": {},
   "source": [
    "### Start RFE, from cell line mapper"
   ]
  },
  {
   "cell_type": "code",
   "execution_count": null,
   "metadata": {},
   "outputs": [],
   "source": [
    "# Test locally with shell scipt\n",
    "# Index drug frame with command line argument"
   ]
  },
  {
   "cell_type": "code",
   "execution_count": 58,
   "metadata": {},
   "outputs": [],
   "source": [
    "drug_frame_index = 0"
   ]
  },
  {
   "cell_type": "code",
   "execution_count": 90,
   "metadata": {},
   "outputs": [],
   "source": [
    "drug_frame_index = 1"
   ]
  },
  {
   "cell_type": "code",
   "execution_count": null,
   "metadata": {},
   "outputs": [],
   "source": [
    "drug_frame_index = 2"
   ]
  },
  {
   "cell_type": "code",
   "execution_count": 110,
   "metadata": {},
   "outputs": [
    {
     "data": {
      "text/plain": [
       "'16-beta-bromoandrosterone'"
      ]
     },
     "execution_count": 110,
     "metadata": {},
     "output_type": "execute_result"
    }
   ],
   "source": [
    "CTRPv2_unique_compounds[0]"
   ]
  },
  {
   "cell_type": "code",
   "execution_count": 111,
   "metadata": {},
   "outputs": [
    {
     "data": {
      "text/plain": [
       "'17-AAG'"
      ]
     },
     "execution_count": 111,
     "metadata": {},
     "output_type": "execute_result"
    }
   ],
   "source": [
    "CTRPv2_unique_compounds[1]"
   ]
  },
  {
   "cell_type": "code",
   "execution_count": 112,
   "metadata": {},
   "outputs": [
    {
     "data": {
      "text/plain": [
       "'1S,3R-RSL-3'"
      ]
     },
     "execution_count": 112,
     "metadata": {},
     "output_type": "execute_result"
    }
   ],
   "source": [
    "CTRPv2_unique_compounds[2]"
   ]
  },
  {
   "cell_type": "code",
   "execution_count": 113,
   "metadata": {},
   "outputs": [
    {
     "data": {
      "text/plain": [
       "'3-Cl-AHPC'"
      ]
     },
     "execution_count": 113,
     "metadata": {},
     "output_type": "execute_result"
    }
   ],
   "source": [
    "CTRPv2_unique_compounds[3]"
   ]
  },
  {
   "cell_type": "code",
   "execution_count": 114,
   "metadata": {},
   "outputs": [
    {
     "data": {
      "text/plain": [
       "'16-beta-bromoandrosterone'"
      ]
     },
     "execution_count": 114,
     "metadata": {},
     "output_type": "execute_result"
    }
   ],
   "source": [
    "CTRPv2_unique_compounds[drug_frame_index]"
   ]
  },
  {
   "cell_type": "code",
   "execution_count": null,
   "metadata": {},
   "outputs": [],
   "source": [
    "# debug"
   ]
  },
  {
   "cell_type": "code",
   "execution_count": 107,
   "metadata": {},
   "outputs": [
    {
     "data": {
      "text/plain": [
       "1"
      ]
     },
     "execution_count": 107,
     "metadata": {},
     "output_type": "execute_result"
    }
   ],
   "source": [
    "drug_frame_index"
   ]
  },
  {
   "cell_type": "code",
   "execution_count": 115,
   "metadata": {},
   "outputs": [
    {
     "data": {
      "text/plain": [
       "'vorinostat'"
      ]
     },
     "execution_count": 115,
     "metadata": {},
     "output_type": "execute_result"
    }
   ],
   "source": [
    "CTRPv2_unique_compounds[506] # End 2021-10-21; final val in full_array shellscript\n",
    "\n",
    "#  *** End notebook ***"
   ]
  },
  {
   "cell_type": "code",
   "execution_count": 116,
   "metadata": {},
   "outputs": [
    {
     "ename": "IndexError",
     "evalue": "index 507 is out of bounds for axis 0 with size 507",
     "output_type": "error",
     "traceback": [
      "\u001b[0;31m---------------------------------------------------------------------------\u001b[0m",
      "\u001b[0;31mIndexError\u001b[0m                                Traceback (most recent call last)",
      "\u001b[0;32m<ipython-input-116-86fad2a26696>\u001b[0m in \u001b[0;36m<module>\u001b[0;34m\u001b[0m\n\u001b[0;32m----> 1\u001b[0;31m \u001b[0mCTRPv2_unique_compounds\u001b[0m\u001b[0;34m[\u001b[0m\u001b[0;36m507\u001b[0m\u001b[0;34m]\u001b[0m\u001b[0;34m\u001b[0m\u001b[0;34m\u001b[0m\u001b[0m\n\u001b[0m",
      "\u001b[0;31mIndexError\u001b[0m: index 507 is out of bounds for axis 0 with size 507"
     ]
    }
   ],
   "source": [
    "CTRPv2_unique_compounds[507]"
   ]
  },
  {
   "cell_type": "code",
   "execution_count": 108,
   "metadata": {},
   "outputs": [],
   "source": [
    "# RFE, deploy on Exacloud\n",
    "import pandas as pd\n",
    "import time\n",
    "from sklearn.svm import SVR\n",
    "from sklearn.feature_selection import RFE\n",
    "import argparse\n",
    "\n",
    "# parser = argparse.ArgumentParser(\n",
    "#     description = 'Drug index'\n",
    "# )\n",
    "\n",
    "# parser.add_argument(\n",
    "#     'drug_frame_index',\n",
    "#     type = int,\n",
    "#     help = 'Input TCGA cancer code'\n",
    "# )\n",
    "\n",
    "# args = parser.parse_args()\n",
    "\n",
    "drug_frame_index = 0 # Devel\n",
    "# drug_frame_index = args.drug_frame_index # Deploy\n",
    "\n",
    "cell_lines_by_genes = pd.read_csv(\n",
    "    './data/CCLE_gene_expression_by_cell_line.tsv',\n",
    "    sep = '\\t'\n",
    ")\n",
    "\n",
    "CTRPv2 = pd.read_csv(\n",
    "    './data/drug_response_CTRPv2.tsv',\n",
    "    sep = '\\t'\n",
    ")\n",
    "\n",
    "CTRPv2_drug_sort = CTRPv2.sort_values('Drug')\n",
    "CTRPv2_unique_compounds = CTRPv2_drug_sort.Drug.unique()\n",
    "\n",
    "compound = CTRPv2_unique_compounds[\n",
    "    drug_frame_index\n",
    "]\n",
    "\n",
    "drug_frame = CTRPv2[ \n",
    "    CTRPv2.Drug == CTRPv2_unique_compounds[\n",
    "        drug_frame_index\n",
    "    ]\n",
    "]\n",
    "\n",
    "drug_cell_lines = drug_frame.Cell_line\n",
    "\n",
    "expression_cell_line_subset = cell_lines_by_genes[\n",
    "    cell_lines_by_genes['Cell_line'].isin( drug_cell_lines ) ]\n",
    "\n",
    "X_gexp = expression_cell_line_subset.iloc[ :, 3:] # to RFE\n",
    "X_gexp.reset_index(inplace = True, drop = True)\n",
    "\n",
    "X_gexp_cut = X_gexp.iloc[: , :100] # Devel\n",
    "\n",
    "subset_cell_lines = expression_cell_line_subset.Cell_line\n",
    "subset_of_drug_frame_gexp_hits = drug_frame[\n",
    "    drug_frame.Cell_line.isin(subset_cell_lines) ]\n",
    "\n",
    "y_response = subset_of_drug_frame_gexp_hits.Response # to RFE\n",
    "\n",
    "# Set RFE estimator\n",
    "estimator = SVR(kernel=\"linear\")\n",
    "selector = RFE(estimator, n_features_to_select=10, step=1)\n",
    "\n",
    "start = time.time()\n",
    "\n",
    "selector = selector.fit(X_gexp_cut, y_response) # Devel\n",
    "# selector = selector.fit(X_gexp, y_response)   # Deploy\n",
    "\n",
    "end = time.time() - start\n",
    "\n",
    "selected_features = X_gexp_cut.loc[ # Devel\n",
    "    :, selector.support_\n",
    "]\n",
    "\n",
    "# selected_features = X_gexp.loc[ # Deploy\n",
    "#     :, selector.support_\n",
    "# ]\n",
    "\n",
    "selected_features.to_csv(\n",
    "    'CTRP_features/selected_features/selected_features_'+compound+'_'+str(\n",
    "        round(end, 1))+'.tsv',\n",
    "    sep = '\\t',\n",
    "    index = False\n",
    ")\n",
    "\n",
    "rank_frame = pd.DataFrame( # Devel\n",
    "    {'Gene': X_gexp_cut.columns,\n",
    "     'Rank': selector.ranking_}\n",
    ")\n",
    "\n",
    "# rank_frame = pd.DataFrame( # Deploy\n",
    "#     {'Gene': X_gexp.columns,\n",
    "#      'Rank': selector.ranking_}\n",
    "# )\n",
    "\n",
    "rank_frame.sort_values(\n",
    "    'Rank',\n",
    "    inplace = True\n",
    ")\n",
    "\n",
    "rank_frame.to_csv(\n",
    "    'CTRP_features/feature_ranking/feature_ranking_'+compound+'.tsv',\n",
    "    sep = '\\t',\n",
    "    index = False\n",
    ")"
   ]
  },
  {
   "cell_type": "code",
   "execution_count": null,
   "metadata": {},
   "outputs": [],
   "source": [
    "# Devel:"
   ]
  },
  {
   "cell_type": "code",
   "execution_count": 103,
   "metadata": {},
   "outputs": [],
   "source": [
    "rank_frame.sort_values('Rank', inplace = True)"
   ]
  },
  {
   "cell_type": "code",
   "execution_count": 101,
   "metadata": {},
   "outputs": [],
   "source": [
    "rank_frame = pd.DataFrame({'Gene': X_gexp_cut.columns,\n",
    "                          'Rank': selector.ranking_}\n",
    "                         )"
   ]
  },
  {
   "cell_type": "code",
   "execution_count": 104,
   "metadata": {},
   "outputs": [
    {
     "data": {
      "text/html": [
       "<div>\n",
       "<style scoped>\n",
       "    .dataframe tbody tr th:only-of-type {\n",
       "        vertical-align: middle;\n",
       "    }\n",
       "\n",
       "    .dataframe tbody tr th {\n",
       "        vertical-align: top;\n",
       "    }\n",
       "\n",
       "    .dataframe thead th {\n",
       "        text-align: right;\n",
       "    }\n",
       "</style>\n",
       "<table border=\"1\" class=\"dataframe\">\n",
       "  <thead>\n",
       "    <tr style=\"text-align: right;\">\n",
       "      <th></th>\n",
       "      <th>Gene</th>\n",
       "      <th>Rank</th>\n",
       "    </tr>\n",
       "  </thead>\n",
       "  <tbody>\n",
       "    <tr>\n",
       "      <th>8</th>\n",
       "      <td>ENSG00000001084</td>\n",
       "      <td>1</td>\n",
       "    </tr>\n",
       "    <tr>\n",
       "      <th>64</th>\n",
       "      <td>ENSG00000004848</td>\n",
       "      <td>1</td>\n",
       "    </tr>\n",
       "    <tr>\n",
       "      <th>95</th>\n",
       "      <td>ENSG00000005421</td>\n",
       "      <td>1</td>\n",
       "    </tr>\n",
       "    <tr>\n",
       "      <th>3</th>\n",
       "      <td>ENSG00000000457</td>\n",
       "      <td>1</td>\n",
       "    </tr>\n",
       "    <tr>\n",
       "      <th>12</th>\n",
       "      <td>ENSG00000001497</td>\n",
       "      <td>1</td>\n",
       "    </tr>\n",
       "    <tr>\n",
       "      <th>...</th>\n",
       "      <td>...</td>\n",
       "      <td>...</td>\n",
       "    </tr>\n",
       "    <tr>\n",
       "      <th>57</th>\n",
       "      <td>ENSG00000004776</td>\n",
       "      <td>87</td>\n",
       "    </tr>\n",
       "    <tr>\n",
       "      <th>80</th>\n",
       "      <td>ENSG00000005102</td>\n",
       "      <td>88</td>\n",
       "    </tr>\n",
       "    <tr>\n",
       "      <th>89</th>\n",
       "      <td>ENSG00000005243</td>\n",
       "      <td>89</td>\n",
       "    </tr>\n",
       "    <tr>\n",
       "      <th>36</th>\n",
       "      <td>ENSG00000003249</td>\n",
       "      <td>90</td>\n",
       "    </tr>\n",
       "    <tr>\n",
       "      <th>16</th>\n",
       "      <td>ENSG00000001629</td>\n",
       "      <td>91</td>\n",
       "    </tr>\n",
       "  </tbody>\n",
       "</table>\n",
       "<p>100 rows × 2 columns</p>\n",
       "</div>"
      ],
      "text/plain": [
       "               Gene  Rank\n",
       "8   ENSG00000001084     1\n",
       "64  ENSG00000004848     1\n",
       "95  ENSG00000005421     1\n",
       "3   ENSG00000000457     1\n",
       "12  ENSG00000001497     1\n",
       "..              ...   ...\n",
       "57  ENSG00000004776    87\n",
       "80  ENSG00000005102    88\n",
       "89  ENSG00000005243    89\n",
       "36  ENSG00000003249    90\n",
       "16  ENSG00000001629    91\n",
       "\n",
       "[100 rows x 2 columns]"
      ]
     },
     "execution_count": 104,
     "metadata": {},
     "output_type": "execute_result"
    }
   ],
   "source": [
    "rank_frame"
   ]
  },
  {
   "cell_type": "code",
   "execution_count": 89,
   "metadata": {},
   "outputs": [
    {
     "data": {
      "text/plain": [
       "array([83,  4, 80, 20,  5, 11, 68, 57, 71, 84, 59, 53,  1, 89, 55, 90,  1,\n",
       "       62,  1,  1, 81, 27, 13, 91, 65, 50, 85, 23, 47, 46, 51, 86,  3, 78,\n",
       "       75, 74, 25, 19, 72, 32,  6,  1, 41, 77, 60, 24, 66, 15, 37,  7, 40,\n",
       "        1,  1,  1, 69, 70, 87, 67, 43,  9, 12, 88, 29, 73, 63, 52, 17, 42,\n",
       "       56, 54, 22, 39, 58,  1, 45, 36, 14, 10, 34, 38, 35, 16, 82, 28,  8,\n",
       "       79, 49,  1, 61, 64, 76, 26, 33, 21, 18, 30, 31, 48,  2, 44])"
      ]
     },
     "execution_count": 89,
     "metadata": {},
     "output_type": "execute_result"
    }
   ],
   "source": [
    "selector.ranking_ # feature importance; how to interpret features with Keras (?)"
   ]
  },
  {
   "cell_type": "code",
   "execution_count": 74,
   "metadata": {},
   "outputs": [
    {
     "data": {
      "text/plain": [
       "array([False, False, False, False, False, False, False, False, False,\n",
       "       False, False, False,  True, False, False, False,  True, False,\n",
       "        True,  True, False, False, False, False, False, False, False,\n",
       "       False, False, False, False, False, False, False, False, False,\n",
       "       False, False, False, False, False,  True, False, False, False,\n",
       "       False, False, False, False, False, False,  True,  True,  True,\n",
       "       False, False, False, False, False, False, False, False, False,\n",
       "       False, False, False, False, False, False, False, False, False,\n",
       "       False,  True, False, False, False, False, False, False, False,\n",
       "       False, False, False, False, False, False,  True, False, False,\n",
       "       False, False, False, False, False, False, False, False, False,\n",
       "       False])"
      ]
     },
     "execution_count": 74,
     "metadata": {},
     "output_type": "execute_result"
    }
   ],
   "source": [
    "selector.support_"
   ]
  },
  {
   "cell_type": "code",
   "execution_count": null,
   "metadata": {},
   "outputs": [],
   "source": [
    "# Devel for exacloud"
   ]
  },
  {
   "cell_type": "code",
   "execution_count": null,
   "metadata": {},
   "outputs": [],
   "source": [
    "# steps\n",
    "# 1) test locally on cut object\n",
    "#   a) create .py file\n",
    "#     - need arg parse, from sample count\n",
    "# 2) test locally on cut object calling with shell script \n",
    "# 3) test on exacloud with cut object\n",
    "# 4) deploy"
   ]
  },
  {
   "cell_type": "code",
   "execution_count": null,
   "metadata": {},
   "outputs": [],
   "source": [
    "# code parking lot\n",
    "\n",
    "# CTRPv2_drug_sort = CTRPv2.sort_values('Drug') # For diagnostics\n",
    "# CTRPv2_unique_compounds = CTRPv2_drug_sort.Drug.unique()\n",
    "\n",
    "# for unique_compound in CTRPv2_unique_compounds:\n",
    "#     drug_frame = CTRPv2[CTRPv2.Drug == unique_compound] # *key step\n",
    "#     break"
   ]
  },
  {
   "cell_type": "code",
   "execution_count": 57,
   "metadata": {},
   "outputs": [],
   "source": [
    "X_gexp_cut = X_gexp.iloc[: , :100]"
   ]
  },
  {
   "cell_type": "code",
   "execution_count": 50,
   "metadata": {},
   "outputs": [],
   "source": [
    "X_gexp.reset_index(inplace = True, drop = True)"
   ]
  },
  {
   "cell_type": "code",
   "execution_count": 51,
   "metadata": {},
   "outputs": [
    {
     "data": {
      "text/html": [
       "<div>\n",
       "<style scoped>\n",
       "    .dataframe tbody tr th:only-of-type {\n",
       "        vertical-align: middle;\n",
       "    }\n",
       "\n",
       "    .dataframe tbody tr th {\n",
       "        vertical-align: top;\n",
       "    }\n",
       "\n",
       "    .dataframe thead th {\n",
       "        text-align: right;\n",
       "    }\n",
       "</style>\n",
       "<table border=\"1\" class=\"dataframe\">\n",
       "  <thead>\n",
       "    <tr style=\"text-align: right;\">\n",
       "      <th></th>\n",
       "      <th>ENSG00000000003</th>\n",
       "      <th>ENSG00000000005</th>\n",
       "      <th>ENSG00000000419</th>\n",
       "      <th>ENSG00000000457</th>\n",
       "      <th>ENSG00000000460</th>\n",
       "      <th>ENSG00000000938</th>\n",
       "      <th>ENSG00000000971</th>\n",
       "      <th>ENSG00000001036</th>\n",
       "      <th>ENSG00000001084</th>\n",
       "      <th>ENSG00000001167</th>\n",
       "      <th>...</th>\n",
       "      <th>ENSGR0000237531</th>\n",
       "      <th>ENSGR0000237801</th>\n",
       "      <th>ENSGR0000263835</th>\n",
       "      <th>ENSGR0000263980</th>\n",
       "      <th>ENSGR0000264510</th>\n",
       "      <th>ENSGR0000264819</th>\n",
       "      <th>ENSGR0000265350</th>\n",
       "      <th>ENSGR0000265658</th>\n",
       "      <th>ENSGR0000266731</th>\n",
       "      <th>ENSGR0000270726</th>\n",
       "    </tr>\n",
       "  </thead>\n",
       "  <tbody>\n",
       "    <tr>\n",
       "      <th>0</th>\n",
       "      <td>3.444932</td>\n",
       "      <td>0.000000</td>\n",
       "      <td>6.898450</td>\n",
       "      <td>1.891419</td>\n",
       "      <td>3.620586</td>\n",
       "      <td>0.014355</td>\n",
       "      <td>0.201634</td>\n",
       "      <td>5.535742</td>\n",
       "      <td>5.070389</td>\n",
       "      <td>4.491212</td>\n",
       "      <td>...</td>\n",
       "      <td>0.0</td>\n",
       "      <td>0.0</td>\n",
       "      <td>0.0</td>\n",
       "      <td>0.0</td>\n",
       "      <td>0.0</td>\n",
       "      <td>0.0</td>\n",
       "      <td>0.0</td>\n",
       "      <td>0.0</td>\n",
       "      <td>0.0</td>\n",
       "      <td>0.0</td>\n",
       "    </tr>\n",
       "    <tr>\n",
       "      <th>1</th>\n",
       "      <td>3.237258</td>\n",
       "      <td>0.000000</td>\n",
       "      <td>7.982081</td>\n",
       "      <td>2.144046</td>\n",
       "      <td>4.051372</td>\n",
       "      <td>0.111031</td>\n",
       "      <td>1.350497</td>\n",
       "      <td>5.416502</td>\n",
       "      <td>4.090007</td>\n",
       "      <td>4.956521</td>\n",
       "      <td>...</td>\n",
       "      <td>0.0</td>\n",
       "      <td>0.0</td>\n",
       "      <td>0.0</td>\n",
       "      <td>0.0</td>\n",
       "      <td>0.0</td>\n",
       "      <td>0.0</td>\n",
       "      <td>0.0</td>\n",
       "      <td>0.0</td>\n",
       "      <td>0.0</td>\n",
       "      <td>0.0</td>\n",
       "    </tr>\n",
       "    <tr>\n",
       "      <th>2</th>\n",
       "      <td>4.734981</td>\n",
       "      <td>0.000000</td>\n",
       "      <td>8.087145</td>\n",
       "      <td>2.130931</td>\n",
       "      <td>4.353323</td>\n",
       "      <td>0.084064</td>\n",
       "      <td>0.137504</td>\n",
       "      <td>5.635174</td>\n",
       "      <td>4.668460</td>\n",
       "      <td>4.550285</td>\n",
       "      <td>...</td>\n",
       "      <td>0.0</td>\n",
       "      <td>0.0</td>\n",
       "      <td>0.0</td>\n",
       "      <td>0.0</td>\n",
       "      <td>0.0</td>\n",
       "      <td>0.0</td>\n",
       "      <td>0.0</td>\n",
       "      <td>0.0</td>\n",
       "      <td>0.0</td>\n",
       "      <td>0.0</td>\n",
       "    </tr>\n",
       "    <tr>\n",
       "      <th>3</th>\n",
       "      <td>4.204767</td>\n",
       "      <td>0.000000</td>\n",
       "      <td>6.255123</td>\n",
       "      <td>2.000000</td>\n",
       "      <td>2.367371</td>\n",
       "      <td>0.014355</td>\n",
       "      <td>2.157044</td>\n",
       "      <td>6.296457</td>\n",
       "      <td>5.960002</td>\n",
       "      <td>4.038261</td>\n",
       "      <td>...</td>\n",
       "      <td>0.0</td>\n",
       "      <td>0.0</td>\n",
       "      <td>0.0</td>\n",
       "      <td>0.0</td>\n",
       "      <td>0.0</td>\n",
       "      <td>0.0</td>\n",
       "      <td>0.0</td>\n",
       "      <td>0.0</td>\n",
       "      <td>0.0</td>\n",
       "      <td>0.0</td>\n",
       "    </tr>\n",
       "    <tr>\n",
       "      <th>4</th>\n",
       "      <td>5.612058</td>\n",
       "      <td>0.163499</td>\n",
       "      <td>6.890933</td>\n",
       "      <td>3.135863</td>\n",
       "      <td>4.709291</td>\n",
       "      <td>0.238787</td>\n",
       "      <td>0.978196</td>\n",
       "      <td>5.531069</td>\n",
       "      <td>5.336283</td>\n",
       "      <td>4.078951</td>\n",
       "      <td>...</td>\n",
       "      <td>0.0</td>\n",
       "      <td>0.0</td>\n",
       "      <td>0.0</td>\n",
       "      <td>0.0</td>\n",
       "      <td>0.0</td>\n",
       "      <td>0.0</td>\n",
       "      <td>0.0</td>\n",
       "      <td>0.0</td>\n",
       "      <td>0.0</td>\n",
       "      <td>0.0</td>\n",
       "    </tr>\n",
       "    <tr>\n",
       "      <th>...</th>\n",
       "      <td>...</td>\n",
       "      <td>...</td>\n",
       "      <td>...</td>\n",
       "      <td>...</td>\n",
       "      <td>...</td>\n",
       "      <td>...</td>\n",
       "      <td>...</td>\n",
       "      <td>...</td>\n",
       "      <td>...</td>\n",
       "      <td>...</td>\n",
       "      <td>...</td>\n",
       "      <td>...</td>\n",
       "      <td>...</td>\n",
       "      <td>...</td>\n",
       "      <td>...</td>\n",
       "      <td>...</td>\n",
       "      <td>...</td>\n",
       "      <td>...</td>\n",
       "      <td>...</td>\n",
       "      <td>...</td>\n",
       "      <td>...</td>\n",
       "    </tr>\n",
       "    <tr>\n",
       "      <th>737</th>\n",
       "      <td>2.853996</td>\n",
       "      <td>0.000000</td>\n",
       "      <td>6.372604</td>\n",
       "      <td>1.748461</td>\n",
       "      <td>2.548437</td>\n",
       "      <td>0.070389</td>\n",
       "      <td>0.941106</td>\n",
       "      <td>5.272023</td>\n",
       "      <td>3.308885</td>\n",
       "      <td>3.617063</td>\n",
       "      <td>...</td>\n",
       "      <td>0.0</td>\n",
       "      <td>0.0</td>\n",
       "      <td>0.0</td>\n",
       "      <td>0.0</td>\n",
       "      <td>0.0</td>\n",
       "      <td>0.0</td>\n",
       "      <td>0.0</td>\n",
       "      <td>0.0</td>\n",
       "      <td>0.0</td>\n",
       "      <td>0.0</td>\n",
       "    </tr>\n",
       "    <tr>\n",
       "      <th>738</th>\n",
       "      <td>4.220330</td>\n",
       "      <td>0.000000</td>\n",
       "      <td>6.383359</td>\n",
       "      <td>2.718088</td>\n",
       "      <td>3.023255</td>\n",
       "      <td>0.014355</td>\n",
       "      <td>0.084064</td>\n",
       "      <td>5.780310</td>\n",
       "      <td>5.537296</td>\n",
       "      <td>4.596339</td>\n",
       "      <td>...</td>\n",
       "      <td>0.0</td>\n",
       "      <td>0.0</td>\n",
       "      <td>0.0</td>\n",
       "      <td>0.0</td>\n",
       "      <td>0.0</td>\n",
       "      <td>0.0</td>\n",
       "      <td>0.0</td>\n",
       "      <td>0.0</td>\n",
       "      <td>0.0</td>\n",
       "      <td>0.0</td>\n",
       "    </tr>\n",
       "    <tr>\n",
       "      <th>739</th>\n",
       "      <td>4.772414</td>\n",
       "      <td>0.000000</td>\n",
       "      <td>6.250014</td>\n",
       "      <td>1.803227</td>\n",
       "      <td>3.427606</td>\n",
       "      <td>0.028569</td>\n",
       "      <td>1.000000</td>\n",
       "      <td>5.723012</td>\n",
       "      <td>3.467279</td>\n",
       "      <td>3.633431</td>\n",
       "      <td>...</td>\n",
       "      <td>0.0</td>\n",
       "      <td>0.0</td>\n",
       "      <td>0.0</td>\n",
       "      <td>0.0</td>\n",
       "      <td>0.0</td>\n",
       "      <td>0.0</td>\n",
       "      <td>0.0</td>\n",
       "      <td>0.0</td>\n",
       "      <td>0.0</td>\n",
       "      <td>0.0</td>\n",
       "    </tr>\n",
       "    <tr>\n",
       "      <th>740</th>\n",
       "      <td>2.803227</td>\n",
       "      <td>0.070389</td>\n",
       "      <td>6.342875</td>\n",
       "      <td>2.021480</td>\n",
       "      <td>2.580145</td>\n",
       "      <td>0.214125</td>\n",
       "      <td>1.704872</td>\n",
       "      <td>5.331275</td>\n",
       "      <td>5.631977</td>\n",
       "      <td>3.972693</td>\n",
       "      <td>...</td>\n",
       "      <td>0.0</td>\n",
       "      <td>0.0</td>\n",
       "      <td>0.0</td>\n",
       "      <td>0.0</td>\n",
       "      <td>0.0</td>\n",
       "      <td>0.0</td>\n",
       "      <td>0.0</td>\n",
       "      <td>0.0</td>\n",
       "      <td>0.0</td>\n",
       "      <td>0.0</td>\n",
       "    </tr>\n",
       "    <tr>\n",
       "      <th>741</th>\n",
       "      <td>4.438293</td>\n",
       "      <td>0.000000</td>\n",
       "      <td>6.344118</td>\n",
       "      <td>1.910733</td>\n",
       "      <td>3.933573</td>\n",
       "      <td>0.137504</td>\n",
       "      <td>3.956986</td>\n",
       "      <td>6.098032</td>\n",
       "      <td>4.183487</td>\n",
       "      <td>4.039138</td>\n",
       "      <td>...</td>\n",
       "      <td>0.0</td>\n",
       "      <td>0.0</td>\n",
       "      <td>0.0</td>\n",
       "      <td>0.0</td>\n",
       "      <td>0.0</td>\n",
       "      <td>0.0</td>\n",
       "      <td>0.0</td>\n",
       "      <td>0.0</td>\n",
       "      <td>0.0</td>\n",
       "      <td>0.0</td>\n",
       "    </tr>\n",
       "  </tbody>\n",
       "</table>\n",
       "<p>742 rows × 57820 columns</p>\n",
       "</div>"
      ],
      "text/plain": [
       "     ENSG00000000003  ENSG00000000005  ENSG00000000419  ENSG00000000457  \\\n",
       "0           3.444932         0.000000         6.898450         1.891419   \n",
       "1           3.237258         0.000000         7.982081         2.144046   \n",
       "2           4.734981         0.000000         8.087145         2.130931   \n",
       "3           4.204767         0.000000         6.255123         2.000000   \n",
       "4           5.612058         0.163499         6.890933         3.135863   \n",
       "..               ...              ...              ...              ...   \n",
       "737         2.853996         0.000000         6.372604         1.748461   \n",
       "738         4.220330         0.000000         6.383359         2.718088   \n",
       "739         4.772414         0.000000         6.250014         1.803227   \n",
       "740         2.803227         0.070389         6.342875         2.021480   \n",
       "741         4.438293         0.000000         6.344118         1.910733   \n",
       "\n",
       "     ENSG00000000460  ENSG00000000938  ENSG00000000971  ENSG00000001036  \\\n",
       "0           3.620586         0.014355         0.201634         5.535742   \n",
       "1           4.051372         0.111031         1.350497         5.416502   \n",
       "2           4.353323         0.084064         0.137504         5.635174   \n",
       "3           2.367371         0.014355         2.157044         6.296457   \n",
       "4           4.709291         0.238787         0.978196         5.531069   \n",
       "..               ...              ...              ...              ...   \n",
       "737         2.548437         0.070389         0.941106         5.272023   \n",
       "738         3.023255         0.014355         0.084064         5.780310   \n",
       "739         3.427606         0.028569         1.000000         5.723012   \n",
       "740         2.580145         0.214125         1.704872         5.331275   \n",
       "741         3.933573         0.137504         3.956986         6.098032   \n",
       "\n",
       "     ENSG00000001084  ENSG00000001167  ...  ENSGR0000237531  ENSGR0000237801  \\\n",
       "0           5.070389         4.491212  ...              0.0              0.0   \n",
       "1           4.090007         4.956521  ...              0.0              0.0   \n",
       "2           4.668460         4.550285  ...              0.0              0.0   \n",
       "3           5.960002         4.038261  ...              0.0              0.0   \n",
       "4           5.336283         4.078951  ...              0.0              0.0   \n",
       "..               ...              ...  ...              ...              ...   \n",
       "737         3.308885         3.617063  ...              0.0              0.0   \n",
       "738         5.537296         4.596339  ...              0.0              0.0   \n",
       "739         3.467279         3.633431  ...              0.0              0.0   \n",
       "740         5.631977         3.972693  ...              0.0              0.0   \n",
       "741         4.183487         4.039138  ...              0.0              0.0   \n",
       "\n",
       "     ENSGR0000263835  ENSGR0000263980  ENSGR0000264510  ENSGR0000264819  \\\n",
       "0                0.0              0.0              0.0              0.0   \n",
       "1                0.0              0.0              0.0              0.0   \n",
       "2                0.0              0.0              0.0              0.0   \n",
       "3                0.0              0.0              0.0              0.0   \n",
       "4                0.0              0.0              0.0              0.0   \n",
       "..               ...              ...              ...              ...   \n",
       "737              0.0              0.0              0.0              0.0   \n",
       "738              0.0              0.0              0.0              0.0   \n",
       "739              0.0              0.0              0.0              0.0   \n",
       "740              0.0              0.0              0.0              0.0   \n",
       "741              0.0              0.0              0.0              0.0   \n",
       "\n",
       "     ENSGR0000265350  ENSGR0000265658  ENSGR0000266731  ENSGR0000270726  \n",
       "0                0.0              0.0              0.0              0.0  \n",
       "1                0.0              0.0              0.0              0.0  \n",
       "2                0.0              0.0              0.0              0.0  \n",
       "3                0.0              0.0              0.0              0.0  \n",
       "4                0.0              0.0              0.0              0.0  \n",
       "..               ...              ...              ...              ...  \n",
       "737              0.0              0.0              0.0              0.0  \n",
       "738              0.0              0.0              0.0              0.0  \n",
       "739              0.0              0.0              0.0              0.0  \n",
       "740              0.0              0.0              0.0              0.0  \n",
       "741              0.0              0.0              0.0              0.0  \n",
       "\n",
       "[742 rows x 57820 columns]"
      ]
     },
     "execution_count": 51,
     "metadata": {},
     "output_type": "execute_result"
    }
   ],
   "source": [
    "X_gexp"
   ]
  },
  {
   "cell_type": "code",
   "execution_count": 46,
   "metadata": {},
   "outputs": [
    {
     "name": "stdout",
     "output_type": "stream",
     "text": [
      "CTRPv2_16_beta_bromoandrosterone.tsv\n"
     ]
    }
   ],
   "source": [
    "ls data/"
   ]
  },
  {
   "cell_type": "code",
   "execution_count": null,
   "metadata": {},
   "outputs": [],
   "source": [
    "# Make test sbatch array argument script\n",
    "# Write a file for each arg to test inclusivity of bounds"
   ]
  },
  {
   "cell_type": "markdown",
   "metadata": {},
   "source": [
    "### Inspection notes for drug_response directory"
   ]
  },
  {
   "cell_type": "code",
   "execution_count": null,
   "metadata": {},
   "outputs": [],
   "source": [
    "# 16_beta_bromo file check, done before creating v2 data folder"
   ]
  },
  {
   "cell_type": "code",
   "execution_count": 43,
   "metadata": {},
   "outputs": [
    {
     "name": "stdout",
     "output_type": "stream",
     "text": [
      "README.rtf        \u001b[34mdata\u001b[m\u001b[m/             drg_rsp_v2.ipynb\n"
     ]
    }
   ],
   "source": [
    "ls"
   ]
  },
  {
   "cell_type": "code",
   "execution_count": 2,
   "metadata": {},
   "outputs": [
    {
     "data": {
      "text/plain": [
       "'/Users/karlberb/work/drug_response/drug_response_v2'"
      ]
     },
     "execution_count": 2,
     "metadata": {},
     "output_type": "execute_result"
    }
   ],
   "source": [
    "pwd"
   ]
  },
  {
   "cell_type": "code",
   "execution_count": 3,
   "metadata": {},
   "outputs": [
    {
     "name": "stdout",
     "output_type": "stream",
     "text": [
      "\u001b[34marchive\u001b[m\u001b[m/          \u001b[34mdrug_response\u001b[m\u001b[m/    \u001b[34mdrug_response_v2\u001b[m\u001b[m/\n"
     ]
    }
   ],
   "source": [
    "ls .."
   ]
  },
  {
   "cell_type": "code",
   "execution_count": 4,
   "metadata": {},
   "outputs": [
    {
     "name": "stdout",
     "output_type": "stream",
     "text": [
      "CTRPv2_16_beta_bromoandrosterone.tsv\n",
      "CTRPv2_16_beta_bromoandrosterone_v2.tsv\n"
     ]
    }
   ],
   "source": [
    "ls ../drug_response/data"
   ]
  },
  {
   "cell_type": "code",
   "execution_count": 8,
   "metadata": {},
   "outputs": [],
   "source": [
    "beta_check = pd.read_csv(\n",
    "    '../drug_response/data/CTRPv2_16_beta_bromoandrosterone.tsv',\n",
    "    sep = '\\t'\n",
    ")"
   ]
  },
  {
   "cell_type": "code",
   "execution_count": 10,
   "metadata": {},
   "outputs": [
    {
     "data": {
      "text/plain": [
       "(742, 57824)"
      ]
     },
     "execution_count": 10,
     "metadata": {},
     "output_type": "execute_result"
    }
   ],
   "source": [
    "beta_check.shape"
   ]
  },
  {
   "cell_type": "code",
   "execution_count": 11,
   "metadata": {},
   "outputs": [
    {
     "data": {
      "text/html": [
       "<div>\n",
       "<style scoped>\n",
       "    .dataframe tbody tr th:only-of-type {\n",
       "        vertical-align: middle;\n",
       "    }\n",
       "\n",
       "    .dataframe tbody tr th {\n",
       "        vertical-align: top;\n",
       "    }\n",
       "\n",
       "    .dataframe thead th {\n",
       "        text-align: right;\n",
       "    }\n",
       "</style>\n",
       "<table border=\"1\" class=\"dataframe\">\n",
       "  <thead>\n",
       "    <tr style=\"text-align: right;\">\n",
       "      <th></th>\n",
       "      <th>Cell_line</th>\n",
       "      <th>Project</th>\n",
       "      <th>Label</th>\n",
       "      <th>ENSG00000000003</th>\n",
       "      <th>ENSG00000000005</th>\n",
       "      <th>ENSG00000000419</th>\n",
       "      <th>ENSG00000000457</th>\n",
       "      <th>ENSG00000000460</th>\n",
       "      <th>ENSG00000000938</th>\n",
       "      <th>ENSG00000000971</th>\n",
       "      <th>...</th>\n",
       "      <th>ENSGR0000237801</th>\n",
       "      <th>ENSGR0000263835</th>\n",
       "      <th>ENSGR0000263980</th>\n",
       "      <th>ENSGR0000264510</th>\n",
       "      <th>ENSGR0000264819</th>\n",
       "      <th>ENSGR0000265350</th>\n",
       "      <th>ENSGR0000265658</th>\n",
       "      <th>ENSGR0000266731</th>\n",
       "      <th>ENSGR0000270726</th>\n",
       "      <th>Y_vector</th>\n",
       "    </tr>\n",
       "  </thead>\n",
       "  <tbody>\n",
       "    <tr>\n",
       "      <th>0</th>\n",
       "      <td>ACH-000796</td>\n",
       "      <td>CCLE</td>\n",
       "      <td>GeneExpression</td>\n",
       "      <td>3.444932</td>\n",
       "      <td>0.000000</td>\n",
       "      <td>6.898450</td>\n",
       "      <td>1.891419</td>\n",
       "      <td>3.620586</td>\n",
       "      <td>0.014355</td>\n",
       "      <td>0.201634</td>\n",
       "      <td>...</td>\n",
       "      <td>0.0</td>\n",
       "      <td>0.0</td>\n",
       "      <td>0.0</td>\n",
       "      <td>0.0</td>\n",
       "      <td>0.0</td>\n",
       "      <td>0.0</td>\n",
       "      <td>0.0</td>\n",
       "      <td>0.0</td>\n",
       "      <td>0.0</td>\n",
       "      <td>0.082942</td>\n",
       "    </tr>\n",
       "    <tr>\n",
       "      <th>1</th>\n",
       "      <td>ACH-000621</td>\n",
       "      <td>CCLE</td>\n",
       "      <td>GeneExpression</td>\n",
       "      <td>3.237258</td>\n",
       "      <td>0.000000</td>\n",
       "      <td>7.982081</td>\n",
       "      <td>2.144046</td>\n",
       "      <td>4.051372</td>\n",
       "      <td>0.111031</td>\n",
       "      <td>1.350497</td>\n",
       "      <td>...</td>\n",
       "      <td>0.0</td>\n",
       "      <td>0.0</td>\n",
       "      <td>0.0</td>\n",
       "      <td>0.0</td>\n",
       "      <td>0.0</td>\n",
       "      <td>0.0</td>\n",
       "      <td>0.0</td>\n",
       "      <td>0.0</td>\n",
       "      <td>0.0</td>\n",
       "      <td>0.010175</td>\n",
       "    </tr>\n",
       "    <tr>\n",
       "      <th>2</th>\n",
       "      <td>ACH-000884</td>\n",
       "      <td>CCLE</td>\n",
       "      <td>GeneExpression</td>\n",
       "      <td>4.734981</td>\n",
       "      <td>0.000000</td>\n",
       "      <td>8.087145</td>\n",
       "      <td>2.130931</td>\n",
       "      <td>4.353323</td>\n",
       "      <td>0.084064</td>\n",
       "      <td>0.137504</td>\n",
       "      <td>...</td>\n",
       "      <td>0.0</td>\n",
       "      <td>0.0</td>\n",
       "      <td>0.0</td>\n",
       "      <td>0.0</td>\n",
       "      <td>0.0</td>\n",
       "      <td>0.0</td>\n",
       "      <td>0.0</td>\n",
       "      <td>0.0</td>\n",
       "      <td>0.0</td>\n",
       "      <td>0.039194</td>\n",
       "    </tr>\n",
       "    <tr>\n",
       "      <th>3</th>\n",
       "      <td>ACH-000876</td>\n",
       "      <td>CCLE</td>\n",
       "      <td>GeneExpression</td>\n",
       "      <td>4.204767</td>\n",
       "      <td>0.000000</td>\n",
       "      <td>6.255123</td>\n",
       "      <td>2.000000</td>\n",
       "      <td>2.367371</td>\n",
       "      <td>0.014355</td>\n",
       "      <td>2.157044</td>\n",
       "      <td>...</td>\n",
       "      <td>0.0</td>\n",
       "      <td>0.0</td>\n",
       "      <td>0.0</td>\n",
       "      <td>0.0</td>\n",
       "      <td>0.0</td>\n",
       "      <td>0.0</td>\n",
       "      <td>0.0</td>\n",
       "      <td>0.0</td>\n",
       "      <td>0.0</td>\n",
       "      <td>0.051378</td>\n",
       "    </tr>\n",
       "    <tr>\n",
       "      <th>4</th>\n",
       "      <td>ACH-000849</td>\n",
       "      <td>CCLE</td>\n",
       "      <td>GeneExpression</td>\n",
       "      <td>5.612058</td>\n",
       "      <td>0.163499</td>\n",
       "      <td>6.890933</td>\n",
       "      <td>3.135863</td>\n",
       "      <td>4.709291</td>\n",
       "      <td>0.238787</td>\n",
       "      <td>0.978196</td>\n",
       "      <td>...</td>\n",
       "      <td>0.0</td>\n",
       "      <td>0.0</td>\n",
       "      <td>0.0</td>\n",
       "      <td>0.0</td>\n",
       "      <td>0.0</td>\n",
       "      <td>0.0</td>\n",
       "      <td>0.0</td>\n",
       "      <td>0.0</td>\n",
       "      <td>0.0</td>\n",
       "      <td>0.016336</td>\n",
       "    </tr>\n",
       "  </tbody>\n",
       "</table>\n",
       "<p>5 rows × 57824 columns</p>\n",
       "</div>"
      ],
      "text/plain": [
       "    Cell_line Project           Label  ENSG00000000003  ENSG00000000005  \\\n",
       "0  ACH-000796    CCLE  GeneExpression         3.444932         0.000000   \n",
       "1  ACH-000621    CCLE  GeneExpression         3.237258         0.000000   \n",
       "2  ACH-000884    CCLE  GeneExpression         4.734981         0.000000   \n",
       "3  ACH-000876    CCLE  GeneExpression         4.204767         0.000000   \n",
       "4  ACH-000849    CCLE  GeneExpression         5.612058         0.163499   \n",
       "\n",
       "   ENSG00000000419  ENSG00000000457  ENSG00000000460  ENSG00000000938  \\\n",
       "0         6.898450         1.891419         3.620586         0.014355   \n",
       "1         7.982081         2.144046         4.051372         0.111031   \n",
       "2         8.087145         2.130931         4.353323         0.084064   \n",
       "3         6.255123         2.000000         2.367371         0.014355   \n",
       "4         6.890933         3.135863         4.709291         0.238787   \n",
       "\n",
       "   ENSG00000000971  ...  ENSGR0000237801  ENSGR0000263835  ENSGR0000263980  \\\n",
       "0         0.201634  ...              0.0              0.0              0.0   \n",
       "1         1.350497  ...              0.0              0.0              0.0   \n",
       "2         0.137504  ...              0.0              0.0              0.0   \n",
       "3         2.157044  ...              0.0              0.0              0.0   \n",
       "4         0.978196  ...              0.0              0.0              0.0   \n",
       "\n",
       "   ENSGR0000264510  ENSGR0000264819  ENSGR0000265350  ENSGR0000265658  \\\n",
       "0              0.0              0.0              0.0              0.0   \n",
       "1              0.0              0.0              0.0              0.0   \n",
       "2              0.0              0.0              0.0              0.0   \n",
       "3              0.0              0.0              0.0              0.0   \n",
       "4              0.0              0.0              0.0              0.0   \n",
       "\n",
       "   ENSGR0000266731  ENSGR0000270726  Y_vector  \n",
       "0              0.0              0.0  0.082942  \n",
       "1              0.0              0.0  0.010175  \n",
       "2              0.0              0.0  0.039194  \n",
       "3              0.0              0.0  0.051378  \n",
       "4              0.0              0.0  0.016336  \n",
       "\n",
       "[5 rows x 57824 columns]"
      ]
     },
     "execution_count": 11,
     "metadata": {},
     "output_type": "execute_result"
    }
   ],
   "source": [
    "beta_check.head()"
   ]
  },
  {
   "cell_type": "code",
   "execution_count": 12,
   "metadata": {},
   "outputs": [],
   "source": [
    "beta_check2 = pd.read_csv(\n",
    "    '../drug_response/data/CTRPv2_16_beta_bromoandrosterone_v2.tsv',\n",
    "    sep = '\\t'\n",
    ")"
   ]
  },
  {
   "cell_type": "code",
   "execution_count": 13,
   "metadata": {},
   "outputs": [
    {
     "data": {
      "text/plain": [
       "(742, 57824)"
      ]
     },
     "execution_count": 13,
     "metadata": {},
     "output_type": "execute_result"
    }
   ],
   "source": [
    "beta_check2.shape"
   ]
  },
  {
   "cell_type": "code",
   "execution_count": 14,
   "metadata": {},
   "outputs": [
    {
     "data": {
      "text/html": [
       "<div>\n",
       "<style scoped>\n",
       "    .dataframe tbody tr th:only-of-type {\n",
       "        vertical-align: middle;\n",
       "    }\n",
       "\n",
       "    .dataframe tbody tr th {\n",
       "        vertical-align: top;\n",
       "    }\n",
       "\n",
       "    .dataframe thead th {\n",
       "        text-align: right;\n",
       "    }\n",
       "</style>\n",
       "<table border=\"1\" class=\"dataframe\">\n",
       "  <thead>\n",
       "    <tr style=\"text-align: right;\">\n",
       "      <th></th>\n",
       "      <th>Cell_line</th>\n",
       "      <th>Project</th>\n",
       "      <th>Label</th>\n",
       "      <th>ENSG00000000003</th>\n",
       "      <th>ENSG00000000005</th>\n",
       "      <th>ENSG00000000419</th>\n",
       "      <th>ENSG00000000457</th>\n",
       "      <th>ENSG00000000460</th>\n",
       "      <th>ENSG00000000938</th>\n",
       "      <th>ENSG00000000971</th>\n",
       "      <th>...</th>\n",
       "      <th>ENSGR0000237801</th>\n",
       "      <th>ENSGR0000263835</th>\n",
       "      <th>ENSGR0000263980</th>\n",
       "      <th>ENSGR0000264510</th>\n",
       "      <th>ENSGR0000264819</th>\n",
       "      <th>ENSGR0000265350</th>\n",
       "      <th>ENSGR0000265658</th>\n",
       "      <th>ENSGR0000266731</th>\n",
       "      <th>ENSGR0000270726</th>\n",
       "      <th>Y_vector</th>\n",
       "    </tr>\n",
       "  </thead>\n",
       "  <tbody>\n",
       "    <tr>\n",
       "      <th>0</th>\n",
       "      <td>ACH-000796</td>\n",
       "      <td>CCLE</td>\n",
       "      <td>GeneExpression</td>\n",
       "      <td>3.444932</td>\n",
       "      <td>0.000000</td>\n",
       "      <td>6.898450</td>\n",
       "      <td>1.891419</td>\n",
       "      <td>3.620586</td>\n",
       "      <td>0.014355</td>\n",
       "      <td>0.201634</td>\n",
       "      <td>...</td>\n",
       "      <td>0.0</td>\n",
       "      <td>0.0</td>\n",
       "      <td>0.0</td>\n",
       "      <td>0.0</td>\n",
       "      <td>0.0</td>\n",
       "      <td>0.0</td>\n",
       "      <td>0.0</td>\n",
       "      <td>0.0</td>\n",
       "      <td>0.0</td>\n",
       "      <td>NaN</td>\n",
       "    </tr>\n",
       "    <tr>\n",
       "      <th>1</th>\n",
       "      <td>ACH-000621</td>\n",
       "      <td>CCLE</td>\n",
       "      <td>GeneExpression</td>\n",
       "      <td>3.237258</td>\n",
       "      <td>0.000000</td>\n",
       "      <td>7.982081</td>\n",
       "      <td>2.144046</td>\n",
       "      <td>4.051372</td>\n",
       "      <td>0.111031</td>\n",
       "      <td>1.350497</td>\n",
       "      <td>...</td>\n",
       "      <td>0.0</td>\n",
       "      <td>0.0</td>\n",
       "      <td>0.0</td>\n",
       "      <td>0.0</td>\n",
       "      <td>0.0</td>\n",
       "      <td>0.0</td>\n",
       "      <td>0.0</td>\n",
       "      <td>0.0</td>\n",
       "      <td>0.0</td>\n",
       "      <td>NaN</td>\n",
       "    </tr>\n",
       "    <tr>\n",
       "      <th>2</th>\n",
       "      <td>ACH-000884</td>\n",
       "      <td>CCLE</td>\n",
       "      <td>GeneExpression</td>\n",
       "      <td>4.734981</td>\n",
       "      <td>0.000000</td>\n",
       "      <td>8.087145</td>\n",
       "      <td>2.130931</td>\n",
       "      <td>4.353323</td>\n",
       "      <td>0.084064</td>\n",
       "      <td>0.137504</td>\n",
       "      <td>...</td>\n",
       "      <td>0.0</td>\n",
       "      <td>0.0</td>\n",
       "      <td>0.0</td>\n",
       "      <td>0.0</td>\n",
       "      <td>0.0</td>\n",
       "      <td>0.0</td>\n",
       "      <td>0.0</td>\n",
       "      <td>0.0</td>\n",
       "      <td>0.0</td>\n",
       "      <td>NaN</td>\n",
       "    </tr>\n",
       "    <tr>\n",
       "      <th>3</th>\n",
       "      <td>ACH-000876</td>\n",
       "      <td>CCLE</td>\n",
       "      <td>GeneExpression</td>\n",
       "      <td>4.204767</td>\n",
       "      <td>0.000000</td>\n",
       "      <td>6.255123</td>\n",
       "      <td>2.000000</td>\n",
       "      <td>2.367371</td>\n",
       "      <td>0.014355</td>\n",
       "      <td>2.157044</td>\n",
       "      <td>...</td>\n",
       "      <td>0.0</td>\n",
       "      <td>0.0</td>\n",
       "      <td>0.0</td>\n",
       "      <td>0.0</td>\n",
       "      <td>0.0</td>\n",
       "      <td>0.0</td>\n",
       "      <td>0.0</td>\n",
       "      <td>0.0</td>\n",
       "      <td>0.0</td>\n",
       "      <td>NaN</td>\n",
       "    </tr>\n",
       "    <tr>\n",
       "      <th>4</th>\n",
       "      <td>ACH-000849</td>\n",
       "      <td>CCLE</td>\n",
       "      <td>GeneExpression</td>\n",
       "      <td>5.612058</td>\n",
       "      <td>0.163499</td>\n",
       "      <td>6.890933</td>\n",
       "      <td>3.135863</td>\n",
       "      <td>4.709291</td>\n",
       "      <td>0.238787</td>\n",
       "      <td>0.978196</td>\n",
       "      <td>...</td>\n",
       "      <td>0.0</td>\n",
       "      <td>0.0</td>\n",
       "      <td>0.0</td>\n",
       "      <td>0.0</td>\n",
       "      <td>0.0</td>\n",
       "      <td>0.0</td>\n",
       "      <td>0.0</td>\n",
       "      <td>0.0</td>\n",
       "      <td>0.0</td>\n",
       "      <td>NaN</td>\n",
       "    </tr>\n",
       "  </tbody>\n",
       "</table>\n",
       "<p>5 rows × 57824 columns</p>\n",
       "</div>"
      ],
      "text/plain": [
       "    Cell_line Project           Label  ENSG00000000003  ENSG00000000005  \\\n",
       "0  ACH-000796    CCLE  GeneExpression         3.444932         0.000000   \n",
       "1  ACH-000621    CCLE  GeneExpression         3.237258         0.000000   \n",
       "2  ACH-000884    CCLE  GeneExpression         4.734981         0.000000   \n",
       "3  ACH-000876    CCLE  GeneExpression         4.204767         0.000000   \n",
       "4  ACH-000849    CCLE  GeneExpression         5.612058         0.163499   \n",
       "\n",
       "   ENSG00000000419  ENSG00000000457  ENSG00000000460  ENSG00000000938  \\\n",
       "0         6.898450         1.891419         3.620586         0.014355   \n",
       "1         7.982081         2.144046         4.051372         0.111031   \n",
       "2         8.087145         2.130931         4.353323         0.084064   \n",
       "3         6.255123         2.000000         2.367371         0.014355   \n",
       "4         6.890933         3.135863         4.709291         0.238787   \n",
       "\n",
       "   ENSG00000000971  ...  ENSGR0000237801  ENSGR0000263835  ENSGR0000263980  \\\n",
       "0         0.201634  ...              0.0              0.0              0.0   \n",
       "1         1.350497  ...              0.0              0.0              0.0   \n",
       "2         0.137504  ...              0.0              0.0              0.0   \n",
       "3         2.157044  ...              0.0              0.0              0.0   \n",
       "4         0.978196  ...              0.0              0.0              0.0   \n",
       "\n",
       "   ENSGR0000264510  ENSGR0000264819  ENSGR0000265350  ENSGR0000265658  \\\n",
       "0              0.0              0.0              0.0              0.0   \n",
       "1              0.0              0.0              0.0              0.0   \n",
       "2              0.0              0.0              0.0              0.0   \n",
       "3              0.0              0.0              0.0              0.0   \n",
       "4              0.0              0.0              0.0              0.0   \n",
       "\n",
       "   ENSGR0000266731  ENSGR0000270726  Y_vector  \n",
       "0              0.0              0.0       NaN  \n",
       "1              0.0              0.0       NaN  \n",
       "2              0.0              0.0       NaN  \n",
       "3              0.0              0.0       NaN  \n",
       "4              0.0              0.0       NaN  \n",
       "\n",
       "[5 rows x 57824 columns]"
      ]
     },
     "execution_count": 14,
     "metadata": {},
     "output_type": "execute_result"
    }
   ],
   "source": [
    "beta_check2.head() # Y_vector is a NaN"
   ]
  },
  {
   "cell_type": "code",
   "execution_count": null,
   "metadata": {},
   "outputs": [],
   "source": [
    "# End beta_check"
   ]
  }
 ],
 "metadata": {
  "kernelspec": {
   "display_name": "Python 3",
   "language": "python",
   "name": "python3"
  },
  "language_info": {
   "codemirror_mode": {
    "name": "ipython",
    "version": 3
   },
   "file_extension": ".py",
   "mimetype": "text/x-python",
   "name": "python",
   "nbconvert_exporter": "python",
   "pygments_lexer": "ipython3",
   "version": "3.7.3"
  }
 },
 "nbformat": 4,
 "nbformat_minor": 4
}
