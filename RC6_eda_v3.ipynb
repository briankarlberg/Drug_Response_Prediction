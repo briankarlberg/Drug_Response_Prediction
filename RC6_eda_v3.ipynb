{
 "cells": [
  {
   "cell_type": "code",
   "execution_count": null,
   "metadata": {},
   "outputs": [],
   "source": [
    "# Get sample counts - which number of cell lines"
   ]
  },
  {
   "cell_type": "code",
   "execution_count": 2,
   "metadata": {},
   "outputs": [],
   "source": [
    "import pandas\n",
    "import gripql"
   ]
  },
  {
   "cell_type": "code",
   "execution_count": 3,
   "metadata": {},
   "outputs": [],
   "source": [
    "conn = gripql.Connection(\"https://exa.compbio.ohsu.edu/bmeg-etl/\")"
   ]
  },
  {
   "cell_type": "code",
   "execution_count": 4,
   "metadata": {},
   "outputs": [],
   "source": [
    "G = conn.graph(\"rc6\")"
   ]
  },
  {
   "cell_type": "code",
   "execution_count": 5,
   "metadata": {},
   "outputs": [],
   "source": [
    "genes = {}\n",
    "for k, v in G.query().V().hasLabel(\"Gene\").render([\"_gid\", \"Hugo_Symbol\"]):\n",
    "    genes[k] = v"
   ]
  },
  {
   "cell_type": "code",
   "execution_count": null,
   "metadata": {},
   "outputs": [],
   "source": [
    "genes"
   ]
  },
  {
   "cell_type": "code",
   "execution_count": 10,
   "metadata": {},
   "outputs": [],
   "source": [
    "data = {}\n",
    "for row in G.query().V(\"Proneural\").in_().out(\"rna\").render([\"_gid\", \"_data\"]):\n",
    "    data[row[0]] = row[1]"
   ]
  },
  {
   "cell_type": "code",
   "execution_count": 11,
   "metadata": {},
   "outputs": [
    {
     "data": {
      "text/plain": [
       "{}"
      ]
     },
     "execution_count": 11,
     "metadata": {},
     "output_type": "execute_result"
    }
   ],
   "source": [
    "data"
   ]
  },
  {
   "cell_type": "code",
   "execution_count": 12,
   "metadata": {},
   "outputs": [
    {
     "name": "stdout",
     "output_type": "stream",
     "text": [
      "[['Project:GTEx_Cervix Uteri', 'GTEx_Cervix Uteri'], ['Project:GTEx_Prostate', 'GTEx_Prostate'], ['Project:GTEx_Pituitary', 'GTEx_Pituitary'], ['Project:GTEx_Blood', 'GTEx_Blood'], ['Project:GTEx_Fallopian Tube', 'GTEx_Fallopian Tube'], ['Project:GTEx_Bone Marrow', 'GTEx_Bone Marrow'], ['Project:GTEx_Kidney', 'GTEx_Kidney'], ['Project:GTEx_Salivary Gland', 'GTEx_Salivary Gland'], ['Project:GTEx_Liver', 'GTEx_Liver'], ['Project:GTEx_Brain', 'GTEx_Brain'], ['Project:GTEx_Spleen', 'GTEx_Spleen'], ['Project:GTEx_Vagina', 'GTEx_Vagina'], ['Project:GTEx_Nerve', 'GTEx_Nerve'], ['Project:GTEx_Small Intestine', 'GTEx_Small Intestine'], ['Project:GTEx_Testis', 'GTEx_Testis'], ['Project:GTEx_Skin', 'GTEx_Skin'], ['Project:GTEx_Thyroid', 'GTEx_Thyroid'], ['Project:GTEx_Breast', 'GTEx_Breast'], ['Project:GTEx_Ovary', 'GTEx_Ovary'], ['Project:GTEx_Uterus', 'GTEx_Uterus'], ['Project:GTEx_Adipose Tissue', 'GTEx_Adipose Tissue'], ['Project:GTEx_Esophagus', 'GTEx_Esophagus'], ['Project:GTEx_Bladder', 'GTEx_Bladder'], ['Project:GTEx_Muscle', 'GTEx_Muscle'], ['Project:GTEx_Adrenal Gland', 'GTEx_Adrenal Gland'], ['Project:GTEx_Colon', 'GTEx_Colon'], ['Project:GTEx_Pancreas', 'GTEx_Pancreas'], ['Project:GTEx_Blood Vessel', 'GTEx_Blood Vessel'], ['Project:GTEx_Stomach', 'GTEx_Stomach'], ['Project:GTEx_Lung', 'GTEx_Lung'], ['Project:GTEx_Heart', 'GTEx_Heart'], ['Project:CCLE', 'CCLE'], ['Project:gCSI', 'Project:gCSI'], ['Project:GDSC1000', 'Project:GDSC1000'], ['Project:CCLE-NP', 'Project:CCLE-NP'], ['Project:GRAY', 'Project:GRAY'], ['Project:FIMM', 'Project:FIMM'], ['Project:CTRPv2', 'Project:CTRPv2'], ['Project:UHNBreast', 'Project:UHNBreast'], ['Project:TCGA-SKCM', 'TCGA-SKCM'], ['Project:TCGA-LIHC', 'TCGA-LIHC'], ['Project:TCGA-UCS', 'TCGA-UCS'], ['Project:TCGA-CHOL', 'TCGA-CHOL'], ['Project:TCGA-PRAD', 'TCGA-PRAD'], ['Project:TCGA-PCPG', 'TCGA-PCPG'], ['Project:TCGA-LGG', 'TCGA-LGG'], ['Project:TCGA-UCEC', 'TCGA-UCEC'], ['Project:TCGA-READ', 'TCGA-READ'], ['Project:TCGA-ESCA', 'TCGA-ESCA'], ['Project:TCGA-COAD', 'TCGA-COAD'], ['Project:TCGA-OV', 'TCGA-OV'], ['Project:TCGA-GBM', 'TCGA-GBM'], ['Project:TCGA-THYM', 'TCGA-THYM'], ['Project:TCGA-LUSC', 'TCGA-LUSC'], ['Project:TCGA-PAAD', 'TCGA-PAAD'], ['Project:TCGA-MESO', 'TCGA-MESO'], ['Project:TCGA-KICH', 'TCGA-KICH'], ['Project:TCGA-TGCT', 'TCGA-TGCT'], ['Project:TCGA-SARC', 'TCGA-SARC'], ['Project:TCGA-STAD', 'TCGA-STAD'], ['Project:TCGA-BLCA', 'TCGA-BLCA'], ['Project:TCGA-CESC', 'TCGA-CESC'], ['Project:TCGA-THCA', 'TCGA-THCA'], ['Project:TCGA-KIRC', 'TCGA-KIRC'], ['Project:TCGA-BRCA', 'TCGA-BRCA'], ['Project:TCGA-ACC', 'TCGA-ACC'], ['Project:TCGA-HNSC', 'TCGA-HNSC'], ['Project:TCGA-KIRP', 'TCGA-KIRP'], ['Project:TCGA-LUAD', 'TCGA-LUAD'], ['Project:TCGA-DLBC', 'TCGA-DLBC'], ['Project:TCGA-UVM', 'TCGA-UVM'], ['Project:TCGA-LAML', 'TCGA-LAML'], ['Project:PRISM', 'PRISM']]\n"
     ]
    }
   ],
   "source": [
    "print(list(G.query().V().hasLabel(\"Project\").render([\"$._gid\", \"$.project_id\"])))"
   ]
  },
  {
   "cell_type": "code",
   "execution_count": null,
   "metadata": {},
   "outputs": [],
   "source": [
    "# Want: sample counts (number of cell lines from CCLE, CTDD, CGP, and PRISM)\n",
    "# What is CTRP?"
   ]
  },
  {
   "cell_type": "code",
   "execution_count": null,
   "metadata": {},
   "outputs": [],
   "source": []
  }
 ],
 "metadata": {
  "kernelspec": {
   "display_name": "Python 3",
   "language": "python",
   "name": "python3"
  },
  "language_info": {
   "codemirror_mode": {
    "name": "ipython",
    "version": 3
   },
   "file_extension": ".py",
   "mimetype": "text/x-python",
   "name": "python",
   "nbconvert_exporter": "python",
   "pygments_lexer": "ipython3",
   "version": "3.7.3"
  }
 },
 "nbformat": 4,
 "nbformat_minor": 4
}
